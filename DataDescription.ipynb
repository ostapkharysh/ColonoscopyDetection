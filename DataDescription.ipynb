{
 "cells": [
  {
   "cell_type": "markdown",
   "metadata": {
    "collapsed": true,
    "pycharm": {
     "name": "#%% md\n"
    }
   },
   "source": [
    "### Codebook\n",
    "* quality: a measure of the quality of the recorded video.\n",
    "* bits: number of bits used to encode that block in the video stream.\n",
    "* intra_parts: number sub-blocks inside this block that are not encoded by making use of\n",
    "information in other frames.\n",
    "* skip_parts: number sub-blocks inside this block that are straight-forward copied from another\n",
    "frame.\n",
    "* inter_16x16_parts: number of sub-blocks inside this block making use of information in other\n",
    "frames and whose size is 16x16 pixels.\n",
    "* inter_4x4_parts: number of sub-blocks inside this block making use of information in other\n",
    "frames and whose size is 4x4 pixels.\n",
    "* inter_other_parts: number of sub-blocks inside this block making use of information in other\n",
    "frames and whose size is different from 16x16 and 4x4 pixels.\n",
    "* non_zero_pixels: number of pixels different from 0 after encoding the block.\n",
    "* frame_width: the width of the video frame in pixels.\n",
    "* frame_height: the height of the video frame in pixels.\n",
    "* movement_level: a measure of the level of movement of this frame with respect the previous\n",
    "one.\n",
    "* mean: mean of the pixels of the encoded block.\n",
    "* sub_mean_1: mean of the pixels contained in the first 32x32 sub-bock of the current block.\n",
    "* sub_mean_2: mean of the pixels contained in the second 32x32 sub-bock of the current block.\n",
    "* sub_mean_3: mean of the pixels contained in the third 32x32 sub-bock of the current block.\n",
    "* sub_mean_4: mean of the pixels contained in the fourth 32x32 sub-bock of the current block.\n",
    "* var_sub_blocks: variance of the four previous values.\n",
    "* sobel_h: mean of the pixels of the encoded block after applying the Sobel operator in\n",
    "horizontal direction.\n",
    "* sobel_v: mean of the pixels of the encoded block after applying the Sobel operator in vertical\n",
    "direction.\n",
    "* variance: variance of the pixels of the encoded block.\n",
    "* block_movement_h: a measure of the movement of the current block in the horizontal\n",
    "direction.\n",
    "* block_movement_v: a measure of the movement of the current block in the vertical direction.\n",
    "* var_movement_h: a measure of the variance of the movements inside the current block in the\n",
    "horizontal direction.\n",
    "* var_movement_v: a measure of the variance of the movements inside the current block in the\n",
    "vertical direction.\n",
    "* cost_1: a measure of the cost of encoding this block without partitioning it.\n",
    "* cost_2: a measure of the cost of encoding this block without partitioning it and without\n",
    "considering any movement in it.\n",
    "* relevant: the target variable that indicates whether the current block is relevant (1) or not (0)."
   ]
  }
 ],
 "metadata": {
  "kernelspec": {
   "display_name": "Python 3",
   "language": "python",
   "name": "python3"
  },
  "language_info": {
   "codemirror_mode": {
    "name": "ipython",
    "version": 2
   },
   "file_extension": ".py",
   "mimetype": "text/x-python",
   "name": "python",
   "nbconvert_exporter": "python",
   "pygments_lexer": "ipython2",
   "version": "2.7.6"
  }
 },
 "nbformat": 4,
 "nbformat_minor": 0
}